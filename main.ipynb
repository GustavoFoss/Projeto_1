{
 "cells": [
  {
   "cell_type": "code",
   "execution_count": null,
   "outputs": [],
   "source": [
    "!pip install pandas-profiling==3.1.0"
   ],
   "metadata": {
    "collapsed": false,
    "pycharm": {
     "name": "#%%\n",
     "is_executing": true
    }
   }
  },
  {
   "cell_type": "code",
   "execution_count": 33,
   "outputs": [],
   "source": [
    "import pandas as pd\n",
    "from pandas_profiling import ProfileReport\n",
    "from sklearn.cluster import KMeans\n",
    "from sklearn.preprocessing import Normalizer\n",
    "from sklearn.metrics import accuracy_score\n",
    "from sklearn.metrics import precision_score\n",
    "from sklearn.metrics import f1_score\n",
    "from sklearn.ensemble import RandomForestClassifier\n",
    "from sklearn.model_selection import train_test_split\n",
    "import numpy as np\n",
    "from sklearn.linear_model import LogisticRegression\n",
    "from sklearn.neural_network import MLPClassifier"
   ],
   "metadata": {
    "collapsed": false,
    "pycharm": {
     "name": "#%%\n"
    }
   }
  },
  {
   "cell_type": "code",
   "execution_count": 53,
   "outputs": [],
   "source": [
    "data_set = pd.read_csv('dataset_customer_churn.csv', sep='^')\n",
    "data_set = data_set.dropna()"
   ],
   "metadata": {
    "collapsed": false,
    "pycharm": {
     "name": "#%%\n"
    }
   }
  },
  {
   "cell_type": "code",
   "execution_count": null,
   "outputs": [],
   "source": [
    "profile = ProfileReport(data_set)\n",
    "profile"
   ],
   "metadata": {
    "collapsed": false,
    "pycharm": {
     "name": "#%%\n",
     "is_executing": true
    }
   }
  },
  {
   "cell_type": "code",
   "execution_count": 54,
   "outputs": [],
   "source": [
    "data_set = data_set.drop(['CD_ASSOCIADO','CODIGO_BENEFICIARIO','REALIZOU_EXODONTIA_COBERTA','REALIZOU_ENDODONTIA_COBERTA', 'A006_REGISTRO_ANS','A006_NM_PLANO','CD_USUARIO','CLIENTE','FORMA_PGTO_MENSALIDADE','QTDE_ATO_N_COBERTO_EXECUTADO','QTDE_ATENDIMENTOS'], axis=1)"
   ],
   "metadata": {
    "collapsed": false,
    "pycharm": {
     "name": "#%%\n"
    }
   }
  },
  {
   "cell_type": "code",
   "execution_count": 66,
   "outputs": [
    {
     "data": {
      "text/plain": "        NUM_BENEFICIARIOS_FAMILIA  IDADE SEXO ESTADO_CIVIL  QTDE_DIAS_ATIVO  \\\n0                             1.0   40.0    F     solteiro            277.0   \n1                             2.0   56.0    F       casado           1725.0   \n2                             2.0   66.0    F       casado           2006.0   \n3                             3.0   62.0    M       casado            529.0   \n4                             1.0   47.0    M       casado            176.0   \n...                           ...    ...  ...          ...              ...   \n386387                        2.0   26.0    F       casado             55.0   \n386388                        1.0   42.0    M   divorciado             55.0   \n386389                        2.0   32.0    M       casado             55.0   \n386390                        1.0   37.0    F     solteiro            833.0   \n386391                        4.0   70.0    M       casado           2614.0   \n\n        QTDE_ATO_COBERTO_EXECUTADO REALIZOU_PROCEDIMEN_ALTO_CUSTO  \\\n0                              8.0                            NAO   \n1                             10.0                            SIM   \n2                             73.0                            SIM   \n3                              1.0                            NAO   \n4                              0.0                            NAO   \n...                            ...                            ...   \n386387                        11.0                            NAO   \n386388                         1.0                            NAO   \n386389                         7.0                            NAO   \n386390                         5.0                            NAO   \n386391                         0.0                            NAO   \n\n       DIAS_ATE_REALIZAR_ALTO_CUSTO CODIGO_FORMA_PGTO_MENSALIDADE      PLANO  \n0                       NaoRealizou                             D  408875991  \n1                            91-200                             D  408875991  \n2                             31-60                             D  408875991  \n3                       NaoRealizou                             D  422427992  \n4                       NaoRealizou                             B  408875991  \n...                             ...                           ...        ...  \n386387                  NaoRealizou                             T  481485181  \n386388                  NaoRealizou                             T  481485181  \n386389                  NaoRealizou                             T  481485181  \n386390                  NaoRealizou                             B  408875991  \n386391                  NaoRealizou                             F  703454997  \n\n[385410 rows x 10 columns]",
      "text/html": "<div>\n<style scoped>\n    .dataframe tbody tr th:only-of-type {\n        vertical-align: middle;\n    }\n\n    .dataframe tbody tr th {\n        vertical-align: top;\n    }\n\n    .dataframe thead th {\n        text-align: right;\n    }\n</style>\n<table border=\"1\" class=\"dataframe\">\n  <thead>\n    <tr style=\"text-align: right;\">\n      <th></th>\n      <th>NUM_BENEFICIARIOS_FAMILIA</th>\n      <th>IDADE</th>\n      <th>SEXO</th>\n      <th>ESTADO_CIVIL</th>\n      <th>QTDE_DIAS_ATIVO</th>\n      <th>QTDE_ATO_COBERTO_EXECUTADO</th>\n      <th>REALIZOU_PROCEDIMEN_ALTO_CUSTO</th>\n      <th>DIAS_ATE_REALIZAR_ALTO_CUSTO</th>\n      <th>CODIGO_FORMA_PGTO_MENSALIDADE</th>\n      <th>PLANO</th>\n    </tr>\n  </thead>\n  <tbody>\n    <tr>\n      <th>0</th>\n      <td>1.0</td>\n      <td>40.0</td>\n      <td>F</td>\n      <td>solteiro</td>\n      <td>277.0</td>\n      <td>8.0</td>\n      <td>NAO</td>\n      <td>NaoRealizou</td>\n      <td>D</td>\n      <td>408875991</td>\n    </tr>\n    <tr>\n      <th>1</th>\n      <td>2.0</td>\n      <td>56.0</td>\n      <td>F</td>\n      <td>casado</td>\n      <td>1725.0</td>\n      <td>10.0</td>\n      <td>SIM</td>\n      <td>91-200</td>\n      <td>D</td>\n      <td>408875991</td>\n    </tr>\n    <tr>\n      <th>2</th>\n      <td>2.0</td>\n      <td>66.0</td>\n      <td>F</td>\n      <td>casado</td>\n      <td>2006.0</td>\n      <td>73.0</td>\n      <td>SIM</td>\n      <td>31-60</td>\n      <td>D</td>\n      <td>408875991</td>\n    </tr>\n    <tr>\n      <th>3</th>\n      <td>3.0</td>\n      <td>62.0</td>\n      <td>M</td>\n      <td>casado</td>\n      <td>529.0</td>\n      <td>1.0</td>\n      <td>NAO</td>\n      <td>NaoRealizou</td>\n      <td>D</td>\n      <td>422427992</td>\n    </tr>\n    <tr>\n      <th>4</th>\n      <td>1.0</td>\n      <td>47.0</td>\n      <td>M</td>\n      <td>casado</td>\n      <td>176.0</td>\n      <td>0.0</td>\n      <td>NAO</td>\n      <td>NaoRealizou</td>\n      <td>B</td>\n      <td>408875991</td>\n    </tr>\n    <tr>\n      <th>...</th>\n      <td>...</td>\n      <td>...</td>\n      <td>...</td>\n      <td>...</td>\n      <td>...</td>\n      <td>...</td>\n      <td>...</td>\n      <td>...</td>\n      <td>...</td>\n      <td>...</td>\n    </tr>\n    <tr>\n      <th>386387</th>\n      <td>2.0</td>\n      <td>26.0</td>\n      <td>F</td>\n      <td>casado</td>\n      <td>55.0</td>\n      <td>11.0</td>\n      <td>NAO</td>\n      <td>NaoRealizou</td>\n      <td>T</td>\n      <td>481485181</td>\n    </tr>\n    <tr>\n      <th>386388</th>\n      <td>1.0</td>\n      <td>42.0</td>\n      <td>M</td>\n      <td>divorciado</td>\n      <td>55.0</td>\n      <td>1.0</td>\n      <td>NAO</td>\n      <td>NaoRealizou</td>\n      <td>T</td>\n      <td>481485181</td>\n    </tr>\n    <tr>\n      <th>386389</th>\n      <td>2.0</td>\n      <td>32.0</td>\n      <td>M</td>\n      <td>casado</td>\n      <td>55.0</td>\n      <td>7.0</td>\n      <td>NAO</td>\n      <td>NaoRealizou</td>\n      <td>T</td>\n      <td>481485181</td>\n    </tr>\n    <tr>\n      <th>386390</th>\n      <td>1.0</td>\n      <td>37.0</td>\n      <td>F</td>\n      <td>solteiro</td>\n      <td>833.0</td>\n      <td>5.0</td>\n      <td>NAO</td>\n      <td>NaoRealizou</td>\n      <td>B</td>\n      <td>408875991</td>\n    </tr>\n    <tr>\n      <th>386391</th>\n      <td>4.0</td>\n      <td>70.0</td>\n      <td>M</td>\n      <td>casado</td>\n      <td>2614.0</td>\n      <td>0.0</td>\n      <td>NAO</td>\n      <td>NaoRealizou</td>\n      <td>F</td>\n      <td>703454997</td>\n    </tr>\n  </tbody>\n</table>\n<p>385410 rows × 10 columns</p>\n</div>"
     },
     "execution_count": 66,
     "metadata": {},
     "output_type": "execute_result"
    }
   ],
   "source": [
    "data_set"
   ],
   "metadata": {
    "collapsed": false,
    "pycharm": {
     "name": "#%%\n"
    }
   }
  },
  {
   "cell_type": "code",
   "execution_count": 55,
   "outputs": [],
   "source": [
    "y = data_set['SITUACAO']\n",
    "data_set = data_set.drop(['SITUACAO'], axis=1)\n",
    "\n",
    "dici_trad = {\n",
    "    'DESATIVADO' : 0,\n",
    "    'ATIVO':1\n",
    "}\n",
    "\n",
    "y =  y.replace(dici_trad)\n",
    "y = pd.Series(y)"
   ],
   "metadata": {
    "collapsed": false,
    "pycharm": {
     "name": "#%%\n"
    }
   }
  },
  {
   "cell_type": "code",
   "execution_count": 56,
   "outputs": [],
   "source": [
    "dummies = pd.get_dummies(data_set[['SEXO','ESTADO_CIVIL','REALIZOU_PROCEDIMEN_ALTO_CUSTO','DIAS_ATE_REALIZAR_ALTO_CUSTO','PLANO','CODIGO_FORMA_PGTO_MENSALIDADE']])"
   ],
   "metadata": {
    "collapsed": false,
    "pycharm": {
     "name": "#%%\n"
    }
   }
  },
  {
   "cell_type": "code",
   "execution_count": 57,
   "outputs": [],
   "source": [
    "num = data_set.drop(['SEXO','ESTADO_CIVIL','REALIZOU_PROCEDIMEN_ALTO_CUSTO','DIAS_ATE_REALIZAR_ALTO_CUSTO','PLANO','CODIGO_FORMA_PGTO_MENSALIDADE'], axis=1)"
   ],
   "metadata": {
    "collapsed": false,
    "pycharm": {
     "name": "#%%\n"
    }
   }
  },
  {
   "cell_type": "code",
   "execution_count": 58,
   "outputs": [],
   "source": [
    "x = pd.concat([dummies, num], axis=1)"
   ],
   "metadata": {
    "collapsed": false,
    "pycharm": {
     "name": "#%%\n"
    }
   }
  },
  {
   "cell_type": "markdown",
   "source": [
    "VIEW FUNCTION"
   ],
   "metadata": {
    "collapsed": false,
    "pycharm": {
     "name": "#%% md\n"
    }
   }
  },
  {
   "cell_type": "code",
   "execution_count": 59,
   "outputs": [],
   "source": [
    "def view_score(y_teste, p) :\n",
    "  baseline = np.ones(p.shape)\n",
    "\n",
    "  ac = accuracy_score(y_teste,p)\n",
    "  pc = precision_score(y_teste,p)\n",
    "  f1 = f1_score(y_teste,p)\n",
    "\n",
    "  print(\"Pelo Accuracy: \",ac * 100,\"%\")\n",
    "  print(\"Pelo Precision: \",pc * 100,\"%\")\n",
    "  print(\"Pelo F1: \",f1 * 100,\"%\")\n",
    "  print()\n",
    "  print(\"BASELINE\")\n",
    "\n",
    "  ac_b = accuracy_score(y_teste,baseline)\n",
    "  pc_b = precision_score(y_teste,baseline)\n",
    "  f1_b = f1_score(y_teste,baseline)\n",
    "\n",
    "  print(\"Pelo Accuracy: \",ac_b * 100,\"%\")\n",
    "  print(\"Pelo Precision: \",pc_b * 100,\"%\")\n",
    "  print(\"Pelo F1: \",f1_b * 100,\"%\")"
   ],
   "metadata": {
    "collapsed": false,
    "pycharm": {
     "name": "#%%\n"
    }
   }
  },
  {
   "cell_type": "markdown",
   "source": [
    "TESTE E TREINO"
   ],
   "metadata": {
    "collapsed": false,
    "pycharm": {
     "name": "#%% md\n"
    }
   }
  },
  {
   "cell_type": "code",
   "execution_count": 60,
   "outputs": [],
   "source": [
    "x = x\n",
    "y = y\n",
    "\n",
    "x_treino,x_teste,y_treino,y_teste = train_test_split(x, y, test_size=0.3, stratify=y)"
   ],
   "metadata": {
    "collapsed": false,
    "pycharm": {
     "name": "#%%\n"
    }
   }
  },
  {
   "cell_type": "markdown",
   "source": [
    "RANDOM FOREST"
   ],
   "metadata": {
    "collapsed": false,
    "pycharm": {
     "name": "#%% md\n"
    }
   }
  },
  {
   "cell_type": "code",
   "execution_count": 61,
   "outputs": [
    {
     "name": "stdout",
     "output_type": "stream",
     "text": [
      "Pelo Accuracy:  89.3775459899847 %\n",
      "Pelo Precision:  87.96358858858859 %\n",
      "Pelo F1:  88.41495623302144 %\n",
      "\n",
      "BASELINE\n",
      "Pelo Accuracy:  45.61030244847478 %\n",
      "Pelo Precision:  45.61030244847478 %\n",
      "Pelo F1:  62.647081534102725 %\n"
     ]
    }
   ],
   "source": [
    "rf = RandomForestClassifier()\n",
    "rf.fit(x_treino, y_treino)\n",
    "\n",
    "p = rf.predict(x_teste)\n",
    "\n",
    "view_score(y_teste, p)"
   ],
   "metadata": {
    "collapsed": false,
    "pycharm": {
     "name": "#%%\n"
    }
   }
  },
  {
   "cell_type": "markdown",
   "source": [
    "LOGISTIC REGRESSION"
   ],
   "metadata": {
    "collapsed": false,
    "pycharm": {
     "name": "#%% md\n"
    }
   }
  },
  {
   "cell_type": "code",
   "execution_count": 62,
   "outputs": [
    {
     "name": "stdout",
     "output_type": "stream",
     "text": [
      "Pelo Accuracy:  81.32637969954075 %\n",
      "Pelo Precision:  80.00077060897374 %\n",
      "Pelo F1:  79.36699062526877 %\n",
      "\n",
      "BASELINE\n",
      "Pelo Accuracy:  45.61030244847478 %\n",
      "Pelo Precision:  45.61030244847478 %\n",
      "Pelo F1:  62.647081534102725 %\n"
     ]
    },
    {
     "name": "stderr",
     "output_type": "stream",
     "text": [
      "C:\\Users\\fossg\\anaconda3\\lib\\site-packages\\sklearn\\linear_model\\_logistic.py:814: ConvergenceWarning: lbfgs failed to converge (status=1):\n",
      "STOP: TOTAL NO. of ITERATIONS REACHED LIMIT.\n",
      "\n",
      "Increase the number of iterations (max_iter) or scale the data as shown in:\n",
      "    https://scikit-learn.org/stable/modules/preprocessing.html\n",
      "Please also refer to the documentation for alternative solver options:\n",
      "    https://scikit-learn.org/stable/modules/linear_model.html#logistic-regression\n",
      "  n_iter_i = _check_optimize_result(\n"
     ]
    }
   ],
   "source": [
    "lr = LogisticRegression()\n",
    "\n",
    "lr.fit(x_treino,y_treino)\n",
    "\n",
    "p2 = lr.predict(x_teste)\n",
    "\n",
    "view_score(y_teste,p2)"
   ],
   "metadata": {
    "collapsed": false,
    "pycharm": {
     "name": "#%%\n"
    }
   }
  },
  {
   "cell_type": "markdown",
   "source": [
    "MULTILAYER"
   ],
   "metadata": {
    "collapsed": false,
    "pycharm": {
     "name": "#%% md\n"
    }
   }
  },
  {
   "cell_type": "code",
   "execution_count": 63,
   "outputs": [
    {
     "name": "stdout",
     "output_type": "stream",
     "text": [
      "Pelo Accuracy:  84.63368015014314 %\n",
      "Pelo Precision:  85.61360627355128 %\n",
      "Pelo F1:  82.55246437725252 %\n",
      "\n",
      "BASELINE\n",
      "Pelo Accuracy:  45.61030244847478 %\n",
      "Pelo Precision:  45.61030244847478 %\n",
      "Pelo F1:  62.647081534102725 %\n"
     ]
    }
   ],
   "source": [
    "mlp = MLPClassifier()\n",
    "\n",
    "mlp.fit(x_treino,y_treino)\n",
    "\n",
    "p3 = mlp.predict(x_teste)\n",
    "\n",
    "view_score(y_teste, p3)"
   ],
   "metadata": {
    "collapsed": false,
    "pycharm": {
     "name": "#%%\n"
    }
   }
  },
  {
   "cell_type": "markdown",
   "source": [
    "CLUSTERING"
   ],
   "metadata": {
    "collapsed": false,
    "pycharm": {
     "name": "#%% md\n"
    }
   }
  },
  {
   "cell_type": "code",
   "execution_count": 68,
   "outputs": [
    {
     "name": "stdout",
     "output_type": "stream",
     "text": [
      "         QTDE_DIAS_ATIVO  QTDE_ATO_COBERTO_EXECUTADO\n",
      "CLUSTER                                             \n",
      "0              97.297954                    2.268237\n",
      "1            1083.989597                    7.574297\n",
      "2              10.970534                    0.216186\n",
      "3              41.820820                    0.957039\n",
      "4             225.981770                    4.508428\n"
     ]
    },
    {
     "name": "stderr",
     "output_type": "stream",
     "text": [
      "C:\\Users\\fossg\\AppData\\Local\\Temp\\ipykernel_38028\\280585691.py:11: FutureWarning: Indexing with multiple keys (implicitly converted to a tuple of keys) will be deprecated, use a list instead.\n",
      "  descp = clus.groupby('CLUSTER')['QTDE_DIAS_ATIVO','QTDE_ATO_COBERTO_EXECUTADO']\n"
     ]
    }
   ],
   "source": [
    "data_final = pd.concat([x,y], axis=1)\n",
    "\n",
    "values = Normalizer().fit_transform(data_final.values)\n",
    "\n",
    "km = KMeans(n_clusters=5,n_init=10,max_iter=300)\n",
    "km_pred = km.fit_predict(values)\n",
    "\n",
    "clus = data_final\n",
    "\n",
    "clus['CLUSTER'] = km.labels_\n",
    "descp = clus.groupby('CLUSTER')['QTDE_DIAS_ATIVO','QTDE_ATO_COBERTO_EXECUTADO']\n",
    "descp = pd.DataFrame(descp.mean())\n",
    "\n",
    "print(descp)"
   ],
   "metadata": {
    "collapsed": false,
    "pycharm": {
     "name": "#%%\n"
    }
   }
  },
  {
   "cell_type": "code",
   "execution_count": 46,
   "outputs": [],
   "source": [],
   "metadata": {
    "collapsed": false,
    "pycharm": {
     "name": "#%%\n"
    }
   }
  }
 ],
 "metadata": {
  "kernelspec": {
   "display_name": "Python 3",
   "language": "python",
   "name": "python3"
  },
  "language_info": {
   "codemirror_mode": {
    "name": "ipython",
    "version": 2
   },
   "file_extension": ".py",
   "mimetype": "text/x-python",
   "name": "python",
   "nbconvert_exporter": "python",
   "pygments_lexer": "ipython2",
   "version": "2.7.6"
  }
 },
 "nbformat": 4,
 "nbformat_minor": 0
}