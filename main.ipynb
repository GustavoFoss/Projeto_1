{
 "cells": [
  {
   "cell_type": "code",
   "execution_count": null,
   "outputs": [],
   "source": [
    "!pip install pandas-profiling==3.1.0"
   ],
   "metadata": {
    "collapsed": false,
    "pycharm": {
     "name": "#%%\n",
     "is_executing": true
    }
   }
  },
  {
   "cell_type": "code",
   "execution_count": 40,
   "outputs": [],
   "source": [
    "import pandas as pd\n",
    "from pandas_profiling import ProfileReport\n",
    "from sklearn.cluster import KMeans\n",
    "from sklearn.preprocessing import Normalizer\n",
    "from sklearn.metrics import accuracy_score\n",
    "from sklearn.metrics import precision_score\n",
    "from sklearn.metrics import f1_score\n",
    "from sklearn.ensemble import RandomForestClassifier\n",
    "from sklearn.model_selection import train_test_split\n",
    "import numpy as np\n",
    "from sklearn.linear_model import LogisticRegression\n",
    "from sklearn.neural_network import MLPClassifier\n",
    "from sklearn.model_selection import cross_validate\n",
    "from sklearn.model_selection import StratifiedKFold\n",
    "import warnings\n",
    "import plotly.graph_objects as go"
   ],
   "metadata": {
    "collapsed": false,
    "pycharm": {
     "name": "#%%\n"
    }
   }
  },
  {
   "cell_type": "code",
   "execution_count": 31,
   "outputs": [],
   "source": [
    "warnings.filterwarnings('ignore')"
   ],
   "metadata": {
    "collapsed": false,
    "pycharm": {
     "name": "#%%\n"
    }
   }
  },
  {
   "cell_type": "code",
   "execution_count": 3,
   "outputs": [],
   "source": [
    "np.random.seed = 3050"
   ],
   "metadata": {
    "collapsed": false,
    "pycharm": {
     "name": "#%%\n"
    }
   }
  },
  {
   "cell_type": "code",
   "execution_count": 4,
   "outputs": [],
   "source": [
    "data_set = pd.read_csv('dataset_customer_churn.csv', sep='^')\n",
    "data_set = data_set.dropna()"
   ],
   "metadata": {
    "collapsed": false,
    "pycharm": {
     "name": "#%%\n"
    }
   }
  },
  {
   "cell_type": "code",
   "execution_count": null,
   "outputs": [],
   "source": [
    "profile = ProfileReport(data_set)"
   ],
   "metadata": {
    "collapsed": false,
    "pycharm": {
     "name": "#%%\n",
     "is_executing": true
    }
   }
  },
  {
   "cell_type": "code",
   "execution_count": 5,
   "outputs": [],
   "source": [
    "data_set = data_set.drop(['CD_ASSOCIADO','CODIGO_BENEFICIARIO','REALIZOU_EXODONTIA_COBERTA','REALIZOU_ENDODONTIA_COBERTA', 'A006_REGISTRO_ANS','A006_NM_PLANO','CD_USUARIO','CLIENTE','FORMA_PGTO_MENSALIDADE','QTDE_ATO_N_COBERTO_EXECUTADO','QTDE_ATENDIMENTOS'], axis=1)"
   ],
   "metadata": {
    "collapsed": false,
    "pycharm": {
     "name": "#%%\n"
    }
   }
  },
  {
   "cell_type": "code",
   "execution_count": 6,
   "outputs": [],
   "source": [
    "y = data_set['SITUACAO']\n",
    "data_set = data_set.drop(['SITUACAO'], axis=1)\n",
    "\n",
    "dici_trad = {\n",
    "    'DESATIVADO' : 0,\n",
    "    'ATIVO':1\n",
    "}\n",
    "\n",
    "y =  y.replace(dici_trad)\n",
    "y = pd.Series(y)"
   ],
   "metadata": {
    "collapsed": false,
    "pycharm": {
     "name": "#%%\n"
    }
   }
  },
  {
   "cell_type": "code",
   "execution_count": 7,
   "outputs": [],
   "source": [
    "dummies = pd.get_dummies(data_set[['SEXO','ESTADO_CIVIL','REALIZOU_PROCEDIMEN_ALTO_CUSTO','DIAS_ATE_REALIZAR_ALTO_CUSTO','PLANO','CODIGO_FORMA_PGTO_MENSALIDADE']])"
   ],
   "metadata": {
    "collapsed": false,
    "pycharm": {
     "name": "#%%\n"
    }
   }
  },
  {
   "cell_type": "code",
   "execution_count": 8,
   "outputs": [],
   "source": [
    "num = data_set.drop(['SEXO','ESTADO_CIVIL','REALIZOU_PROCEDIMEN_ALTO_CUSTO','DIAS_ATE_REALIZAR_ALTO_CUSTO','PLANO','CODIGO_FORMA_PGTO_MENSALIDADE'], axis=1)"
   ],
   "metadata": {
    "collapsed": false,
    "pycharm": {
     "name": "#%%\n"
    }
   }
  },
  {
   "cell_type": "code",
   "execution_count": 9,
   "outputs": [],
   "source": [
    "x = pd.concat([dummies, num], axis=1)"
   ],
   "metadata": {
    "collapsed": false,
    "pycharm": {
     "name": "#%%\n"
    }
   }
  },
  {
   "cell_type": "markdown",
   "source": [
    "TESTE E TREINO"
   ],
   "metadata": {
    "collapsed": false,
    "pycharm": {
     "name": "#%% md\n"
    }
   }
  },
  {
   "cell_type": "code",
   "execution_count": 10,
   "outputs": [],
   "source": [
    "x = x\n",
    "y = y\n",
    "\n",
    "x_treino,x_teste,y_treino,y_teste = train_test_split(x, y, test_size=0.3, stratify=y)"
   ],
   "metadata": {
    "collapsed": false,
    "pycharm": {
     "name": "#%%\n"
    }
   }
  },
  {
   "cell_type": "markdown",
   "source": [
    "VIEW FUNCTION"
   ],
   "metadata": {
    "collapsed": false,
    "pycharm": {
     "name": "#%% md\n"
    }
   }
  },
  {
   "cell_type": "code",
   "execution_count": 11,
   "outputs": [],
   "source": [
    "def view_score(y_teste, p) :\n",
    "  baseline = np.ones(p.shape)\n",
    "\n",
    "  ac = accuracy_score(y_teste,p)\n",
    "  pc = precision_score(y_teste,p)\n",
    "  f1 = f1_score(y_teste,p)\n",
    "\n",
    "  print(\"Pelo Accuracy: \",ac * 100,\"%\")\n",
    "  print(\"Pelo Precision: \",pc * 100,\"%\")\n",
    "  print(\"Pelo F1: \",f1 * 100,\"%\")\n",
    "  print()\n",
    "  print(\"BASELINE\")\n",
    "\n",
    "  ac_b = accuracy_score(y_teste,baseline)\n",
    "  pc_b = precision_score(y_teste,baseline)\n",
    "  f1_b = f1_score(y_teste,baseline)\n",
    "\n",
    "  print(\"Pelo Accuracy: \",ac_b * 100,\"%\")\n",
    "  print(\"Pelo Precision: \",pc_b * 100,\"%\")\n",
    "  print(\"Pelo F1: \",f1_b * 100,\"%\")"
   ],
   "metadata": {
    "collapsed": false,
    "pycharm": {
     "name": "#%%\n"
    }
   }
  },
  {
   "cell_type": "code",
   "execution_count": 12,
   "outputs": [],
   "source": [
    "def cross_validation(x, y, modelo):\n",
    "  cv = StratifiedKFold(n_splits=5, shuffle=True)\n",
    "\n",
    "  results = cross_validate(modelo, x, y,cv = cv)\n",
    "  results = pd.DataFrame(results)\n",
    "  media = results.test_score.mean() * 100\n",
    "  desvio = results.test_score.std()\n",
    "  print(\"Média Teste: %.2f\" %(media),\"%\")\n",
    "  print(\"Entre : [%.2f, %.2f]\" %((media - 2 * desvio), (media + 2 * desvio)),\"%\")"
   ],
   "metadata": {
    "collapsed": false,
    "pycharm": {
     "name": "#%%\n"
    }
   }
  },
  {
   "cell_type": "markdown",
   "source": [
    "RANDOM FOREST"
   ],
   "metadata": {
    "collapsed": false,
    "pycharm": {
     "name": "#%% md\n"
    }
   }
  },
  {
   "cell_type": "code",
   "execution_count": 13,
   "outputs": [
    {
     "name": "stdout",
     "output_type": "stream",
     "text": [
      "Pelo Accuracy:  83.36317168729404 %\n",
      "Pelo Precision:  87.71163544668588 %\n",
      "Pelo F1:  80.20009881422925 %\n",
      "\n",
      "BASELINE\n",
      "Pelo Accuracy:  45.61030244847478 %\n",
      "Pelo Precision:  45.61030244847478 %\n",
      "Pelo F1:  62.647081534102725 %\n"
     ]
    }
   ],
   "source": [
    "rf = RandomForestClassifier(max_depth=3, n_estimators=10)\n",
    "rf.fit(x_treino, y_treino)\n",
    "\n",
    "p = rf.predict(x_teste)\n",
    "\n",
    "view_score(y_teste, p)"
   ],
   "metadata": {
    "collapsed": false,
    "pycharm": {
     "name": "#%%\n"
    }
   }
  },
  {
   "cell_type": "code",
   "execution_count": 14,
   "outputs": [
    {
     "name": "stdout",
     "output_type": "stream",
     "text": [
      "Média Teste: 77.78 %\n",
      "Entre : [77.64, 77.91] %\n"
     ]
    }
   ],
   "source": [
    "cross_validation(x, y,modelo=rf)"
   ],
   "metadata": {
    "collapsed": false,
    "pycharm": {
     "name": "#%%\n"
    }
   }
  },
  {
   "cell_type": "markdown",
   "source": [
    "LOGISTIC REGRESSION"
   ],
   "metadata": {
    "collapsed": false,
    "pycharm": {
     "name": "#%% md\n"
    }
   }
  },
  {
   "cell_type": "code",
   "execution_count": 33,
   "outputs": [
    {
     "name": "stdout",
     "output_type": "stream",
     "text": [
      "Pelo Accuracy:  81.21567508194735 %\n",
      "Pelo Precision:  80.07796590446267 %\n",
      "Pelo F1:  79.17581521999675 %\n",
      "\n",
      "BASELINE\n",
      "Pelo Accuracy:  45.61030244847478 %\n",
      "Pelo Precision:  45.61030244847478 %\n",
      "Pelo F1:  62.647081534102725 %\n"
     ]
    }
   ],
   "source": [
    "lr = LogisticRegression(max_iter=50)\n",
    "\n",
    "lr.fit(x_treino,y_treino)\n",
    "\n",
    "p2 = lr.predict(x_teste)\n",
    "\n",
    "view_score(y_teste,p2)"
   ],
   "metadata": {
    "collapsed": false,
    "pycharm": {
     "name": "#%%\n"
    }
   }
  },
  {
   "cell_type": "code",
   "execution_count": 36,
   "outputs": [
    {
     "name": "stdout",
     "output_type": "stream",
     "text": [
      "Média Teste: 80.90 %\n",
      "Entre : [80.90, 80.91] %\n"
     ]
    }
   ],
   "source": [
    "cross_validation(x,y,modelo=lr)"
   ],
   "metadata": {
    "collapsed": false,
    "pycharm": {
     "name": "#%%\n"
    }
   }
  },
  {
   "cell_type": "markdown",
   "source": [
    "MULTILAYER"
   ],
   "metadata": {
    "collapsed": false,
    "pycharm": {
     "name": "#%% md\n"
    }
   }
  },
  {
   "cell_type": "code",
   "execution_count": 32,
   "outputs": [
    {
     "name": "stdout",
     "output_type": "stream",
     "text": [
      "Pelo Accuracy:  83.11149165823409 %\n",
      "Pelo Precision:  88.5049741437284 %\n",
      "Pelo F1:  79.62945576315212 %\n",
      "\n",
      "BASELINE\n",
      "Pelo Accuracy:  45.61030244847478 %\n",
      "Pelo Precision:  45.61030244847478 %\n",
      "Pelo F1:  62.647081534102725 %\n"
     ]
    }
   ],
   "source": [
    "mlp = MLPClassifier(max_iter=3)\n",
    "\n",
    "mlp.fit(x_treino,y_treino)\n",
    "\n",
    "p3 = mlp.predict(x_teste)\n",
    "\n",
    "view_score(y_teste, p3)"
   ],
   "metadata": {
    "collapsed": false,
    "pycharm": {
     "name": "#%%\n"
    }
   }
  },
  {
   "cell_type": "code",
   "execution_count": 34,
   "outputs": [
    {
     "name": "stdout",
     "output_type": "stream",
     "text": [
      "Média Teste: 82.41 %\n",
      "Entre : [82.35, 82.46] %\n"
     ]
    }
   ],
   "source": [
    "cross_validation(x,y,modelo=mlp)"
   ],
   "metadata": {
    "collapsed": false,
    "pycharm": {
     "name": "#%%\n"
    }
   }
  },
  {
   "cell_type": "markdown",
   "source": [
    "CLUSTERING"
   ],
   "metadata": {
    "collapsed": false,
    "pycharm": {
     "name": "#%% md\n"
    }
   }
  },
  {
   "cell_type": "code",
   "execution_count": 35,
   "outputs": [
    {
     "name": "stdout",
     "output_type": "stream",
     "text": [
      "         QTDE_DIAS_ATIVO  QTDE_ATO_COBERTO_EXECUTADO  CLIENTES\n",
      "CLUSTER                                                       \n",
      "0              41.820820                    0.957039     15130\n",
      "1             225.981770                    4.508428     87383\n",
      "2              97.297954                    2.268237     34257\n",
      "3              10.970534                    0.216186      9774\n",
      "4            1083.989597                    7.574297    238866\n"
     ]
    }
   ],
   "source": [
    "data_final = pd.concat([x,y], axis=1)\n",
    "\n",
    "values = Normalizer().fit_transform(data_final.values)\n",
    "\n",
    "km = KMeans(n_clusters=5,n_init=10,max_iter=300)\n",
    "km_pred = km.fit_predict(values)\n",
    "\n",
    "clus = data_final\n",
    "\n",
    "clus['CLUSTER'] = km.labels_\n",
    "descp = clus.groupby('CLUSTER')['QTDE_DIAS_ATIVO','QTDE_ATO_COBERTO_EXECUTADO']\n",
    "descp = pd.DataFrame(descp.mean())\n",
    "descp['CLIENTES'] = clus['CLUSTER'].value_counts()\n",
    "\n",
    "print(descp)"
   ],
   "metadata": {
    "collapsed": false,
    "pycharm": {
     "name": "#%%\n"
    }
   }
  },
  {
   "cell_type": "markdown",
   "source": [
    "GRAFICO"
   ],
   "metadata": {
    "collapsed": false,
    "pycharm": {
     "name": "#%% md\n"
    }
   }
  },
  {
   "cell_type": "code",
   "execution_count": null,
   "outputs": [],
   "source": [
    "fig = go.Figure()\n",
    "\n",
    "fig.add_trace(go.Scatter(x=data_final['QTDE_DIAS_ATIVO'],\n",
    "                         y=data_final['QTDE_ATO_COBERTO_EXECUTADO'],\n",
    "                         mode='markers',\n",
    "                         marker=dict(color = km.labels_)\n",
    "                         )\n",
    "              )"
   ],
   "metadata": {
    "collapsed": false,
    "pycharm": {
     "name": "#%%\n",
     "is_executing": true
    }
   }
  },
  {
   "cell_type": "code",
   "execution_count": null,
   "outputs": [],
   "source": [
    "fig.show()"
   ],
   "metadata": {
    "collapsed": false,
    "pycharm": {
     "name": "#%%\n",
     "is_executing": true
    }
   }
  }
 ],
 "metadata": {
  "kernelspec": {
   "display_name": "Python 3",
   "language": "python",
   "name": "python3"
  },
  "language_info": {
   "codemirror_mode": {
    "name": "ipython",
    "version": 2
   },
   "file_extension": ".py",
   "mimetype": "text/x-python",
   "name": "python",
   "nbconvert_exporter": "python",
   "pygments_lexer": "ipython2",
   "version": "2.7.6"
  }
 },
 "nbformat": 4,
 "nbformat_minor": 0
}